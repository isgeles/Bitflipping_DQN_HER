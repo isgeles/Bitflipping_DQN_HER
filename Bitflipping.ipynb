{
 "cells": [
  {
   "cell_type": "markdown",
   "metadata": {},
   "source": [
    "# Bitflipping Environment with DQN (+HER)"
   ]
  },
  {
   "cell_type": "markdown",
   "metadata": {},
   "source": [
    "### Environment"
   ]
  },
  {
   "cell_type": "code",
   "execution_count": 1,
   "metadata": {},
   "outputs": [],
   "source": [
    "import numpy as np\n",
    "\n",
    "class BitFlippingEnv():\n",
    "    def __init__(self, n:int, seed:int=None):\n",
    "        if n <= 0:\n",
    "            raise ValueError(\"n must be positive integer\")\n",
    "        self.n = n  # number of bits\n",
    "        if seed is not None:\n",
    "            self.seed = np.random.seed(seed)\n",
    "        # action is the bit to flip\n",
    "        self.action_space = np.arange(n)        \n",
    "        \n",
    "    def reset(self):\n",
    "        self.state = np.random.randint(2, size=self.n)  # random initial state\n",
    "        self.goal = np.random.randint(2, size=self.n)   # random goal\n",
    "        \n",
    "        # goal should be different to initial state\n",
    "        while np.sum(self.state == self.goal) == self.n:   \n",
    "            self.goal = np.random.randint(2, size=self.n)\n",
    "        return self.state, self.goal\n",
    "\n",
    "    def step(self, state, action):\n",
    "        # action is the bit to flip\n",
    "        next_state = np.copy(state)\n",
    "        next_state[action] = 1 - next_state[action] # flip\n",
    "\n",
    "        # return next_state, reward, done\n",
    "        if self.done(next_state, self.goal):\n",
    "            return next_state, 1, True   \n",
    "        else:\n",
    "            return next_state, -1, False\n",
    "    \n",
    "    def render(self, state):\n",
    "        print(\"State: \", state)\n",
    "            \n",
    "    def done(self, state, goal):\n",
    "        # done if n bits are correct\n",
    "        return np.sum(state == goal) == self.n"
   ]
  },
  {
   "cell_type": "code",
   "execution_count": 2,
   "metadata": {},
   "outputs": [
    {
     "name": "stdout",
     "output_type": "stream",
     "text": [
      "Initial state: [0 0 0 0] \t Goal: [0 0 1 1]\n",
      "State:  [0 0 1 0]\n",
      "State:  [0 0 1 1]\n",
      "----------------- DONE in  2 steps\n"
     ]
    }
   ],
   "source": [
    "## Testing environment\n",
    "n = 4\n",
    "env = BitFlippingEnv(n)\n",
    "\n",
    "state, goal = env.reset()\n",
    "print(\"Initial state:\", state, \"\\t Goal:\", goal)\n",
    "for i in range(1000):\n",
    "    action = np.random.randint(0,n)\n",
    "    state, reware, done = env.step(state, action)\n",
    "    env.render(state)\n",
    "    if done:\n",
    "        print(\"----------------- DONE in \", i+1, \"steps\")\n",
    "        break"
   ]
  },
  {
   "cell_type": "markdown",
   "metadata": {},
   "source": [
    "### DQN"
   ]
  },
  {
   "cell_type": "code",
   "execution_count": 3,
   "metadata": {},
   "outputs": [],
   "source": [
    "import random\n",
    "import torch\n",
    "import numpy as np\n",
    "from collections import deque\n",
    "import matplotlib.pyplot as plt\n",
    "%matplotlib inline"
   ]
  },
  {
   "cell_type": "code",
   "execution_count": 4,
   "metadata": {},
   "outputs": [],
   "source": [
    "from dqn_BitflipAgent import Agent\n",
    "\n",
    "n = 3\n",
    "env = BitFlippingEnv(n)\n",
    "agent = Agent(state_size=n, action_size=n, seed=0)"
   ]
  },
  {
   "cell_type": "code",
   "execution_count": 5,
   "metadata": {},
   "outputs": [
    {
     "name": "stdout",
     "output_type": "stream",
     "text": [
      "Epoch 10\tAverage Score: 0.19\n",
      "Epoch 20\tAverage Score: 0.41\n",
      "Epoch 30\tAverage Score: 0.37\n",
      "Epoch 40\tAverage Score: 0.29\n",
      "Epoch 50\tAverage Score: 0.39\n",
      "Epoch 60\tAverage Score: 0.30\n",
      "Epoch 70\tAverage Score: 0.44\n",
      "Epoch 80\tAverage Score: 0.29\n",
      "Epoch 90\tAverage Score: 0.30\n",
      "Epoch 100\tAverage Score: 0.24\n",
      "Epoch 110\tAverage Score: 0.35\n",
      "Epoch 120\tAverage Score: 0.31\n",
      "Epoch 130\tAverage Score: 0.25\n",
      "Epoch 140\tAverage Score: 0.39\n",
      "Epoch 150\tAverage Score: 0.38\n",
      "Epoch 160\tAverage Score: 0.33\n",
      "Epoch 170\tAverage Score: 0.33\n",
      "Epoch 180\tAverage Score: 0.23\n",
      "Epoch 190\tAverage Score: 0.29\n",
      "Epoch 200\tAverage Score: 0.29\n"
     ]
    }
   ],
   "source": [
    "def dqn(n_epoch=200, n_cycles=50, n_episodes=16, eps_start=1.0, eps_end=0.001, eps_decay=0.995):\n",
    "    \"\"\"Deep Q-Learning.\n",
    "    \n",
    "    Params\n",
    "    ======\n",
    "        n_episodes (int): maximum number of training episodes\n",
    "        max_t (int): maximum number of timesteps per episode\n",
    "        eps_start (float): starting value of epsilon, for epsilon-greedy action selection\n",
    "        eps_end (float): minimum value of epsilon\n",
    "        eps_decay (float): multiplicative factor (per episode) for decreasing epsilon\n",
    "    \"\"\"\n",
    "    success = []\n",
    "    scores = []                        # list containing scores from each episode\n",
    "    scores_window = deque(maxlen=100)  # last 100 scores\n",
    "\n",
    "    eps = eps_start                    # initialize epsilon\n",
    "    \n",
    "    for i_epoch in range(1, n_epoch +1):\n",
    "        for i_cycle in range(n_cycles):\n",
    "            state, goal = env.reset()\n",
    "            score = 0\n",
    "            \n",
    "            for i_episode in range(n_episodes*n):                \n",
    "                state_goal = np.concatenate((state, goal))  # input for agent: s_g\n",
    "\n",
    "                action = agent.act(state_goal, eps)\n",
    "                next_state, reward, done = env.step(state, action)\n",
    "\n",
    "                next_state_goal = np.concatenate((next_state, goal))  # s'_g\n",
    "                agent.step(state_goal, action, reward, next_state_goal, done)\n",
    "\n",
    "                state = next_state\n",
    "                score += reward\n",
    "                if done:\n",
    "                    success.append(1)\n",
    "                    break            \n",
    "            if not done:\n",
    "                success.append(0)\n",
    "\n",
    "            # save most recent score\n",
    "            scores_window.append(score)       \n",
    "            scores.append(score)              \n",
    "\n",
    "            eps = max(eps_end, eps_decay*eps) # decrease epsilon\n",
    "            \n",
    "        print('\\rEpoch {}\\tAverage Score: {:.2f}'.format(i_epoch, np.mean(scores_window)), end=\"\")\n",
    "        if i_epoch % (n_cycles/5) == 0:\n",
    "            print('\\rEpoch {}\\tAverage Score: {:.2f}'.format(i_epoch, np.mean(scores_window)))\n",
    "   \n",
    "    return scores, success\n",
    "\n",
    "scores, success = dqn()\n"
   ]
  },
  {
   "cell_type": "code",
   "execution_count": 6,
   "metadata": {},
   "outputs": [],
   "source": [
    "# save numpy array as csv file\n",
    "#from numpy import asarray\n",
    "#from numpy import savetxt\n",
    "# define data\n",
    "#data = asarray([[0, 1, 2, 3, 4, 5, 6, 7, 8, 9]])\n",
    "# save to csv file\n",
    "#savetxt('data.csv', data, delimiter=',')\n",
    "\n",
    "# load numpy array from csv file\n",
    "#from numpy import loadtxt\n",
    "# load array\n",
    "#data = loadtxt('data.csv', delimiter=',')\n",
    "# print the array\n",
    "#print(data)"
   ]
  },
  {
   "cell_type": "code",
   "execution_count": 7,
   "metadata": {},
   "outputs": [
    {
     "data": {
      "image/png": "[encoded data removed]",
      "text/plain": [
       "<Figure size 432x288 with 1 Axes>"
      ]
     },
     "metadata": {
      "needs_background": "light"
     },
     "output_type": "display_data"
    }
   ],
   "source": [
    "fig = plt.figure()\n",
    "ax = fig.add_subplot(111)\n",
    "plt.plot(np.arange(len(scores)), scores)\n",
    "plt.ylabel('Score')\n",
    "plt.xlabel('Episode #')\n",
    "plt.show()"
   ]
  },
  {
   "cell_type": "code",
   "execution_count": 8,
   "metadata": {},
   "outputs": [
    {
     "data": {
      "image/png": "[encoded data removed]",
      "text/plain": [
       "<Figure size 432x288 with 1 Axes>"
      ]
     },
     "metadata": {
      "needs_background": "light"
     },
     "output_type": "display_data"
    }
   ],
   "source": [
    "import pandas as pd\n",
    "\n",
    "# plot success\n",
    "N = 300\n",
    "rolling_avg = pd.Series(success).rolling(window = N).mean().iloc[N-1:].values\n",
    "\n",
    "fig = plt.figure()\n",
    "ax = fig.add_subplot(111)\n",
    "plt.plot(np.arange(len(rolling_avg)), rolling_avg)\n",
    "plt.ylabel('Score')\n",
    "plt.xlabel('Episode #')\n",
    "plt.show()"
   ]
  },
  {
   "cell_type": "code",
   "execution_count": 9,
   "metadata": {},
   "outputs": [],
   "source": [
    "# saving trained network\n",
    "#torch.save(agent.qnetwork_local.state_dict(), './trained_checkpoints/trained_checkpoint_n8_epo200.pth')"
   ]
  },
  {
   "cell_type": "markdown",
   "metadata": {},
   "source": [
    "### Testing trained agent on Bitflipping"
   ]
  },
  {
   "cell_type": "code",
   "execution_count": 10,
   "metadata": {},
   "outputs": [
    {
     "name": "stdout",
     "output_type": "stream",
     "text": [
      "Success rate 100/100\n"
     ]
    }
   ],
   "source": [
    "n = 10\n",
    "env = BitFlippingEnv(n)\n",
    "agent = Agent(state_size=n, action_size=n, seed=0)\n",
    "\n",
    "# load the weights from file\n",
    "agent.qnetwork_local.load_state_dict(torch.load('./trained_checkpoints/trained_checkpoint_n10_epo200.pth'))\n",
    "\n",
    "s = 0\n",
    "m = 100\n",
    "for i in range(m):\n",
    "    state, goal = env.reset()\n",
    "    #print(\"Goal:\", goal, \"\\t Initial state:\", state)\n",
    "    #print(\"difference: \", n - np.sum(state == goal))\n",
    "    for j in range(n):\n",
    "        state_goal = np.concatenate((state, goal))\n",
    "\n",
    "        action = agent.act(state_goal, 0)\n",
    "        state, reward, done = env.step(state, action)\n",
    "        \n",
    "        if done:\n",
    "            s += 1\n",
    "            #print(\"final state:\", state, \"steps:\", j+1)\n",
    "            break \n",
    "            \n",
    "print(\"Success rate {}/{}\".format(s,m))"
   ]
  },
  {
   "cell_type": "code",
   "execution_count": 11,
   "metadata": {},
   "outputs": [],
   "source": [
    "a = scores\n",
    "b = success"
   ]
  },
  {
   "cell_type": "markdown",
   "metadata": {},
   "source": [
    "### DQN+HER Implementation"
   ]
  },
  {
   "cell_type": "code",
   "execution_count": 27,
   "metadata": {},
   "outputs": [],
   "source": [
    "from dqn_BitflipAgent_HER import Agent\n",
    "n = 48\n",
    "env = BitFlippingEnv(n)\n",
    "agent = Agent(state_size=n, action_size=n, seed=0)"
   ]
  },
  {
   "cell_type": "code",
   "execution_count": null,
   "metadata": {},
   "outputs": [
    {
     "name": "stdout",
     "output_type": "stream",
     "text": [
      "Epoch 10\tAverage Score: -768.00\n",
      "Epoch 20\tAverage Score: -768.00\n",
      "Epoch 30\tAverage Score: -768.00\n",
      "Epoch 40\tAverage Score: -768.00\n",
      "Epoch 50\tAverage Score: -768.00\n",
      "Epoch 60\tAverage Score: -768.00\n",
      "Epoch 70\tAverage Score: -768.00\n",
      "Epoch 80\tAverage Score: -768.00\n",
      "Epoch 90\tAverage Score: -768.00\n",
      "Epoch 93\tAverage Score: -768.00"
     ]
    }
   ],
   "source": [
    "def dqn_HER(n_epoch=200, n_cycles=50, n_episodes=16, eps_start=1.0, eps_end=0.05, eps_decay=0.9995):\n",
    "    \"\"\"Deep Q-Learning.\n",
    "    \n",
    "    Params\n",
    "    ======\n",
    "        n_episodes (int): maximum number of training episodes\n",
    "        max_t (int): maximum number of timesteps per episode\n",
    "        eps_start (float): starting value of epsilon, for epsilon-greedy action selection\n",
    "        eps_end (float): minimum value of epsilon\n",
    "        eps_decay (float): multiplicative factor (per episode) for decreasing epsilon\n",
    "    \"\"\"\n",
    "    success = []\n",
    "    scores = []                        # list containing scores from each episode\n",
    "    scores_window = deque(maxlen=100)  # last 100 scores\n",
    "\n",
    "    #eps = eps_start                    # initialize epsilon\n",
    "    eps = 0.2\n",
    "    \n",
    "    for i_epoch in range(1, n_epoch +1):\n",
    "        for i_cycle in range(n_cycles):\n",
    "            state, goal = env.reset()\n",
    "            score = 0\n",
    "\n",
    "            for i_episode in range(n_episodes*n):                \n",
    "                state_goal = np.concatenate((state, goal))  # input for agent: s_g\n",
    "                action = agent.act(state_goal, eps)\n",
    "                next_state, reward, done = env.step(state, action)\n",
    "                \n",
    "                state_her = state  # save state for HER\n",
    "                state = next_state\n",
    "                score += reward\n",
    "                \n",
    "                next_state_goal = np.concatenate((next_state, goal))  # s'_g\n",
    "                agent.step(state_goal, action, reward, next_state_goal, done)  # storing and learning                \n",
    "\n",
    "                if done:\n",
    "                    success.append(1)\n",
    "                    break\n",
    "            if not done:\n",
    "                success.append(0)\n",
    "                 # additional goal (virtual)\n",
    "                goal_her = state  \n",
    "                state_goal_her = np.concatenate((state_her, goal_her))  # input for agent\n",
    "\n",
    "                next_state_goal_her = np.concatenate((next_state, goal_her))  # next_state same as state\n",
    "                \n",
    "                done_her = True\n",
    "                reward_her = 1\n",
    "                agent.step(state_goal_her, action, reward_her, next_state_goal_her, done_her)  # storing and learning from virtual goal\n",
    "\n",
    "            # save most recent score\n",
    "            scores_window.append(score)       \n",
    "            scores.append(score)              \n",
    "\n",
    "            #eps = max(eps_end, eps_decay*eps) # decrease epsilon\n",
    "            \n",
    "            \n",
    "        print('\\rEpoch {}\\tAverage Score: {:.2f}'.format(i_epoch, np.mean(scores_window)), end=\"\")\n",
    "        if i_epoch % (n_cycles/5) == 0:\n",
    "            print('\\rEpoch {}\\tAverage Score: {:.2f}'.format(i_epoch, np.mean(scores_window)))\n",
    "   \n",
    "    return scores, success\n",
    "scores, success = dqn_HER()"
   ]
  },
  {
   "cell_type": "code",
   "execution_count": null,
   "metadata": {},
   "outputs": [],
   "source": [
    "fig = plt.figure()\n",
    "ax = fig.add_subplot(111)\n",
    "plt.plot(np.arange(len(scores)), scores)\n",
    "plt.ylabel('Score')\n",
    "plt.xlabel('Episode #')\n",
    "plt.show()"
   ]
  },
  {
   "cell_type": "code",
   "execution_count": 17,
   "metadata": {},
   "outputs": [
    {
     "data": {
      "image/png": "[encoded data removed]",
      "text/plain": [
       "<Figure size 432x288 with 1 Axes>"
      ]
     },
     "metadata": {
      "needs_background": "light"
     },
     "output_type": "display_data"
    }
   ],
   "source": [
    "import pandas as pd\n",
    "\n",
    "# plot success\n",
    "N = 100\n",
    "rolling_avg = pd.Series(success).rolling(window = N).mean().iloc[N-1:].values\n",
    "\n",
    "fig = plt.figure()\n",
    "ax = fig.add_subplot(111)\n",
    "plt.plot(np.arange(len(rolling_avg)), rolling_avg)\n",
    "plt.ylabel('Score')\n",
    "plt.xlabel('Episode #')\n",
    "plt.show()"
   ]
  },
  {
   "cell_type": "code",
   "execution_count": 18,
   "metadata": {},
   "outputs": [],
   "source": [
    "# saving trained network\n",
    "torch.save(agent.qnetwork_local.state_dict(), './trained_checkpoints/trained_checkpoint_n45_epo200_1.pth')"
   ]
  },
  {
   "cell_type": "code",
   "execution_count": 21,
   "metadata": {},
   "outputs": [
    {
     "name": "stdout",
     "output_type": "stream",
     "text": [
      "Success rate 843/1000\n"
     ]
    }
   ],
   "source": [
    "n = 45\n",
    "env = BitFlippingEnv(n)\n",
    "agent = Agent(state_size=n, action_size=n, seed=0)\n",
    "\n",
    "# load the weights from file\n",
    "agent.qnetwork_local.load_state_dict(torch.load('./trained_checkpoints/trained_checkpoint_n45_epo200_1.pth'))\n",
    "\n",
    "s = 0\n",
    "m = 1000\n",
    "eps = 0\n",
    "\n",
    "for i in range(m):\n",
    "    state, goal = env.reset()\n",
    "    #print(\"Initial state:\", state, \"\\t Goal:\", goal)\n",
    "    #print(\"difference: \", n - np.sum(state == goal))\n",
    "    for j in range(n):\n",
    "        state_goal = np.concatenate((state, goal))\n",
    "\n",
    "        action = agent.act(state_goal, eps)\n",
    "        state, reward, done = env.step(state, action)\n",
    "        #env.render(state)\n",
    "        if done:\n",
    "            s += 1\n",
    "            #print(\"done in \", j+1)\n",
    "            break \n",
    "            \n",
    "print(\"Success rate {}/{}\".format(s,m))"
   ]
  },
  {
   "cell_type": "code",
   "execution_count": null,
   "metadata": {},
   "outputs": [],
   "source": []
  }
 ],
 "metadata": {
  "kernelspec": {
   "display_name": "Python 3",
   "language": "python",
   "name": "python3"
  },
  "language_info": {
   "codemirror_mode": {
    "name": "ipython",
    "version": 3
   },
   "file_extension": ".py",
   "mimetype": "text/x-python",
   "name": "python",
   "nbconvert_exporter": "python",
   "pygments_lexer": "ipython3",
   "version": "3.6.10"
  }
 },
 "nbformat": 4,
 "nbformat_minor": 4
}
