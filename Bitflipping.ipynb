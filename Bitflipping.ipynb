{
 "cells": [
  {
   "cell_type": "markdown",
   "metadata": {},
   "source": [
    "# Bitflipping Environment with DQN (+HER)"
   ]
  },
  {
   "cell_type": "markdown",
   "metadata": {},
   "source": [
    "### Environment"
   ]
  },
  {
   "cell_type": "code",
   "execution_count": 17,
   "metadata": {},
   "outputs": [],
   "source": [
    "import numpy as np\n",
    "\n",
    "class BitFlippingEnv():\n",
    "    def __init__(self, n:int, seed:int=None):\n",
    "        if n <= 0:\n",
    "            raise ValueError(\"n must be positive integer\")\n",
    "        self.n = n  # number of bits\n",
    "        if seed is not None:\n",
    "            self.seed = np.random.seed(seed)\n",
    "        # action is the bit to flip\n",
    "        self.action_space = np.arange(n)        \n",
    "        \n",
    "    def reset(self):\n",
    "        self.state = np.random.randint(2, size=self.n)  # random initial state\n",
    "        self.goal = np.random.randint(2, size=self.n)   # random goal\n",
    "        \n",
    "        # goal should be different to initial state\n",
    "        while np.sum(self.state == self.goal) == self.n:   \n",
    "            self.goal = np.random.randint(2, size=self.n)\n",
    "        return self.state, self.goal\n",
    "\n",
    "    def step(self, state, action):\n",
    "        # action is the bit to flip\n",
    "        next_state = np.copy(state)\n",
    "        next_state[action] = 1 - next_state[action] # flip\n",
    "\n",
    "        # return next_state, reward, done\n",
    "        if self.done(next_state, self.goal):\n",
    "            return next_state, 0, True   \n",
    "        else:\n",
    "            return next_state, -1, False\n",
    "    \n",
    "    def render(self, state):\n",
    "        print(\"State: \", state)\n",
    "            \n",
    "    def done(self, state, goal):\n",
    "        # done if n bits are correct\n",
    "        return np.sum(state == goal) == self.n"
   ]
  },
  {
   "cell_type": "code",
   "execution_count": 28,
   "metadata": {},
   "outputs": [
    {
     "name": "stdout",
     "output_type": "stream",
     "text": [
      "Initial state: [0 1 0 0] \t Goal: [1 0 0 0]\n",
      "State:  [0 0 0 0]\n",
      "State:  [0 0 1 0]\n",
      "State:  [1 0 1 0]\n",
      "State:  [1 1 1 0]\n",
      "State:  [1 1 0 0]\n",
      "State:  [1 1 0 1]\n",
      "State:  [1 1 1 1]\n",
      "State:  [1 1 0 1]\n",
      "State:  [1 1 0 0]\n",
      "State:  [1 0 0 0]\n",
      "----------------- DONE in  10 steps\n"
     ]
    }
   ],
   "source": [
    "## Testing environment\n",
    "n = 4\n",
    "env = BitFlippingEnv(n)\n",
    "\n",
    "state, goal = env.reset()\n",
    "print(\"Initial state:\", state, \"\\t Goal:\", goal)\n",
    "for i in range(1000):\n",
    "    action = np.random.randint(0,n)\n",
    "    state, reware, done = env.step(state, action)\n",
    "    env.render(state)\n",
    "    if done:\n",
    "        print(\"----------------- DONE in \", i+1, \"steps\")\n",
    "        break"
   ]
  },
  {
   "cell_type": "markdown",
   "metadata": {},
   "source": [
    "### DQN"
   ]
  },
  {
   "cell_type": "code",
   "execution_count": 29,
   "metadata": {},
   "outputs": [],
   "source": [
    "import random\n",
    "import torch\n",
    "import numpy as np\n",
    "from collections import deque\n",
    "import matplotlib.pyplot as plt\n",
    "%matplotlib inline"
   ]
  },
  {
   "cell_type": "code",
   "execution_count": 30,
   "metadata": {},
   "outputs": [],
   "source": [
    "from dqn_BitflipAgent import Agent\n",
    "\n",
    "n = 13\n",
    "env = BitFlippingEnv(n)\n",
    "agent = Agent(state_size=n, action_size=n, seed=0)"
   ]
  },
  {
   "cell_type": "code",
   "execution_count": null,
   "metadata": {},
   "outputs": [
    {
     "name": "stdout",
     "output_type": "stream",
     "text": [
      "Episode 100\tAverage Score: -491.12\n",
      "Episode 200\tAverage Score: -497.94\n",
      "Episode 300\tAverage Score: -494.49\n",
      "Episode 400\tAverage Score: -500.00\n",
      "Episode 500\tAverage Score: -492.91\n",
      "Episode 600\tAverage Score: -496.72\n",
      "Episode 700\tAverage Score: -490.06\n",
      "Episode 800\tAverage Score: -495.85\n",
      "Episode 900\tAverage Score: -500.00\n",
      "Episode 1000\tAverage Score: -500.00\n",
      "Episode 1100\tAverage Score: -496.97\n",
      "Episode 1200\tAverage Score: -500.00\n",
      "Episode 1300\tAverage Score: -500.00\n",
      "Episode 1400\tAverage Score: -495.84\n",
      "Episode 1500\tAverage Score: -491.47\n",
      "Episode 1600\tAverage Score: -497.93\n",
      "Episode 1700\tAverage Score: -500.00\n",
      "Episode 1800\tAverage Score: -500.00\n",
      "Episode 1874\tAverage Score: -500.00"
     ]
    }
   ],
   "source": [
    "def dqn(n_episodes=5000, max_t=500, eps_start=1.0, eps_end=0.001, eps_decay=0.995):\n",
    "    \"\"\"Deep Q-Learning.\n",
    "    \n",
    "    Params\n",
    "    ======\n",
    "        n_episodes (int): maximum number of training episodes\n",
    "        max_t (int): maximum number of timesteps per episode\n",
    "        eps_start (float): starting value of epsilon, for epsilon-greedy action selection\n",
    "        eps_end (float): minimum value of epsilon\n",
    "        eps_decay (float): multiplicative factor (per episode) for decreasing epsilon\n",
    "    \"\"\"\n",
    "    success = []\n",
    "    scores = []                        # list containing scores from each episode\n",
    "    scores_window = deque(maxlen=100)  # last 100 scores\n",
    "\n",
    "    eps = eps_start                    # initialize epsilon\n",
    "    for i_episode in range(1, n_episodes+1):\n",
    "        state, goal = env.reset()\n",
    "        score = 0\n",
    "        \n",
    "        for t in range(max_t):\n",
    "            state_goal = np.concatenate((state, goal))  # input for agent: s_g\n",
    "            \n",
    "            action = agent.act(state_goal, eps)\n",
    "            next_state, reward, done = env.step(state, action)\n",
    "            \n",
    "            next_state_goal = np.concatenate((next_state, goal))  # s'_g\n",
    "            agent.step(state_goal, action, reward, next_state_goal, done)\n",
    "            \n",
    "            state = next_state\n",
    "            score += reward\n",
    "            if done:\n",
    "                success.append(1)\n",
    "                break            \n",
    "        if not done:\n",
    "            success.append(0)\n",
    "            \n",
    "        # save most recent score\n",
    "        scores_window.append(score)       \n",
    "        scores.append(score)              \n",
    "        \n",
    "        eps = max(eps_end, eps_decay*eps) # decrease epsilon\n",
    "        print('\\rEpisode {}\\tAverage Score: {:.2f}'.format(i_episode, np.mean(scores_window)), end=\"\")\n",
    "        if i_episode % 100 == 0:\n",
    "            print('\\rEpisode {}\\tAverage Score: {:.2f}'.format(i_episode, np.mean(scores_window)))\n",
    "    \n",
    "    return scores, success\n",
    "\n",
    "scores, success = dqn()\n"
   ]
  },
  {
   "cell_type": "code",
   "execution_count": null,
   "metadata": {},
   "outputs": [],
   "source": [
    "# save numpy array as csv file\n",
    "#from numpy import asarray\n",
    "#from numpy import savetxt\n",
    "# define data\n",
    "#data = asarray([[0, 1, 2, 3, 4, 5, 6, 7, 8, 9]])\n",
    "# save to csv file\n",
    "#savetxt('data.csv', data, delimiter=',')\n",
    "\n",
    "# load numpy array from csv file\n",
    "#from numpy import loadtxt\n",
    "# load array\n",
    "#data = loadtxt('data.csv', delimiter=',')\n",
    "# print the array\n",
    "#print(data)"
   ]
  },
  {
   "cell_type": "code",
   "execution_count": 25,
   "metadata": {},
   "outputs": [
    {
     "data": {
      "image/png": "[encoded data removed]",
      "text/plain": [
       "<Figure size 432x288 with 1 Axes>"
      ]
     },
     "metadata": {
      "needs_background": "light"
     },
     "output_type": "display_data"
    }
   ],
   "source": [
    "fig = plt.figure()\n",
    "ax = fig.add_subplot(111)\n",
    "plt.plot(np.arange(len(scores)), scores)\n",
    "plt.ylabel('Score')\n",
    "plt.xlabel('Episode #')\n",
    "plt.show()"
   ]
  },
  {
   "cell_type": "code",
   "execution_count": 26,
   "metadata": {},
   "outputs": [],
   "source": [
    "import pandas as pd"
   ]
  },
  {
   "cell_type": "code",
   "execution_count": 27,
   "metadata": {},
   "outputs": [
    {
     "data": {
      "image/png": "[encoded data removed]",
      "text/plain": [
       "<Figure size 432x288 with 1 Axes>"
      ]
     },
     "metadata": {
      "needs_background": "light"
     },
     "output_type": "display_data"
    }
   ],
   "source": [
    "# plot success\n",
    "N = 300\n",
    "rolling_avg = pd.Series(success).rolling(window = N).mean().iloc[N-1:].values\n",
    "\n",
    "fig = plt.figure()\n",
    "ax = fig.add_subplot(111)\n",
    "plt.plot(np.arange(len(rolling_avg)), rolling_avg)\n",
    "plt.ylabel('Score')\n",
    "plt.xlabel('Episode #')\n",
    "plt.show()"
   ]
  },
  {
   "cell_type": "code",
   "execution_count": 11,
   "metadata": {},
   "outputs": [],
   "source": [
    "# saving trained network\n",
    "#torch.save(agent.qnetwork_local.state_dict(), 'trained_checkpoint_n12_ep5k.pth')"
   ]
  },
  {
   "cell_type": "markdown",
   "metadata": {},
   "source": [
    "### Testing trained agent on Bitflipping"
   ]
  },
  {
   "cell_type": "code",
   "execution_count": 21,
   "metadata": {},
   "outputs": [
    {
     "name": "stdout",
     "output_type": "stream",
     "text": [
      "Success rate 98/100\n"
     ]
    }
   ],
   "source": [
    "n = 12\n",
    "env = BitFlippingEnv(n)\n",
    "agent = Agent(state_size=n, action_size=n, seed=0)\n",
    "\n",
    "# load the weights from file\n",
    "agent.qnetwork_local.load_state_dict(torch.load('trained_checkpoint_n12_ep5k.pth'))\n",
    "\n",
    "s = 0\n",
    "m = 100\n",
    "for i in range(m):\n",
    "    state, goal = env.reset()\n",
    "    #print(\"Goal:\", goal, \"\\t Initial state:\", state)\n",
    "    #print(\"difference: \", n - np.sum(state == goal))\n",
    "    for j in range(n):\n",
    "        state_goal = np.concatenate((state, goal))\n",
    "\n",
    "        action = agent.act(state_goal, 0)\n",
    "        state, reward, done = env.step(state, action)\n",
    "        \n",
    "        if done:\n",
    "            s += 1\n",
    "            #print(\"final state:\", state, \"steps:\", j+1)\n",
    "            break \n",
    "            \n",
    "print(\"Success rate {}/{}\".format(s,m))"
   ]
  },
  {
   "cell_type": "code",
   "execution_count": 22,
   "metadata": {},
   "outputs": [],
   "source": [
    "a = scores\n",
    "b = success"
   ]
  },
  {
   "cell_type": "code",
   "execution_count": null,
   "metadata": {},
   "outputs": [],
   "source": []
  }
 ],
 "metadata": {
  "kernelspec": {
   "display_name": "Python 3",
   "language": "python",
   "name": "python3"
  },
  "language_info": {
   "codemirror_mode": {
    "name": "ipython",
    "version": 3
   },
   "file_extension": ".py",
   "mimetype": "text/x-python",
   "name": "python",
   "nbconvert_exporter": "python",
   "pygments_lexer": "ipython3",
   "version": "3.7.6"
  }
 },
 "nbformat": 4,
 "nbformat_minor": 4
}
