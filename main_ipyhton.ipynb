{
 "cells": [
  {
   "cell_type": "markdown",
   "metadata": {},
   "source": [
    "# Bitflipping with DQN and Hindsight Experience Replay (HER)"
   ]
  },
  {
   "cell_type": "markdown",
   "metadata": {},
   "source": [
    "### Packages"
   ]
  },
  {
   "cell_type": "code",
   "execution_count": 1,
   "metadata": {},
   "outputs": [],
   "source": [
    "import numpy as np\n",
    "import torch\n",
    "import random\n",
    "import matplotlib.pyplot as plt\n",
    "import pandas as pd                # rolling average plot\n",
    "import progressbar as pb           # tracking time while training\n",
    "\n",
    "from Bitflipping_Environment import BitFlippingEnv\n",
    "from dqn_agent import Agent"
   ]
  },
  {
   "cell_type": "markdown",
   "metadata": {},
   "source": [
    "### Testing Environment"
   ]
  },
  {
   "cell_type": "code",
   "execution_count": 2,
   "metadata": {},
   "outputs": [],
   "source": [
    "def test_bitflipping(n_bits, n_episodes=5, policy=None, render=False):\n",
    "    \"\"\" Test bitflipping environment, optionally with agent as policy and rendering (printing).\n",
    "\n",
    "    @param n_bits: number of bits\n",
    "    @param n_episodes: number of episodes to test\n",
    "    @param policy: agent to act according to current policy\n",
    "    @param render: print states of environment\n",
    "    @return: average success-rate of number of episodes\n",
    "    \"\"\"\n",
    "    env = BitFlippingEnv(n_bits)\n",
    "    success = []\n",
    "\n",
    "    for e in range(n_episodes):\n",
    "        state, _, _, _ = env.reset()\n",
    "        if render:\n",
    "            env.render()\n",
    "        for t in range(1000):\n",
    "\n",
    "            if policy is None:\n",
    "                action = np.random.randint(0, n_bits)\n",
    "            else:\n",
    "                state_goal = np.concatenate([state['obs'], state['goal']])\n",
    "                action = policy.act(state_goal, eps=0)\n",
    "\n",
    "            state, reward, done, info = env.step(action)\n",
    "            if render:\n",
    "                env.render()\n",
    "            if done:\n",
    "                break\n",
    "        success.append(int(info))\n",
    "    return np.mean(success)"
   ]
  },
  {
   "cell_type": "code",
   "execution_count": 3,
   "metadata": {},
   "outputs": [
    {
     "name": "stdout",
     "output_type": "stream",
     "text": [
      "Step  0    Bits: [1 1 0 0 0]   Goal: [0 1 1 0 0]   Success: False\n",
      "Step  1    Bits: [1 0 0 0 0]   Goal: [0 1 1 0 0]   Success: False\n",
      "Step  2    Bits: [1 0 0 1 0]   Goal: [0 1 1 0 0]   Success: False\n",
      "Step  3    Bits: [1 0 1 1 0]   Goal: [0 1 1 0 0]   Success: False\n",
      "Step  4    Bits: [1 0 0 1 0]   Goal: [0 1 1 0 0]   Success: False\n",
      "Step  5    Bits: [0 0 0 1 0]   Goal: [0 1 1 0 0]   Success: False\n",
      "######## DONE in 5 timesteps, success: False ########\n",
      "\n",
      "Step  0    Bits: [1 0 0 1 1]   Goal: [0 0 1 1 0]   Success: False\n",
      "Step  1    Bits: [0 0 0 1 1]   Goal: [0 0 1 1 0]   Success: False\n",
      "Step  2    Bits: [0 0 0 0 1]   Goal: [0 0 1 1 0]   Success: False\n",
      "Step  3    Bits: [0 1 0 0 1]   Goal: [0 0 1 1 0]   Success: False\n",
      "Step  4    Bits: [0 1 0 1 1]   Goal: [0 0 1 1 0]   Success: False\n",
      "Step  5    Bits: [0 1 0 0 1]   Goal: [0 0 1 1 0]   Success: False\n",
      "######## DONE in 5 timesteps, success: False ########\n",
      "\n",
      "Step  0    Bits: [0 1 1 1 1]   Goal: [0 0 1 0 1]   Success: False\n",
      "Step  1    Bits: [0 1 1 1 0]   Goal: [0 0 1 0 1]   Success: False\n",
      "Step  2    Bits: [0 0 1 1 0]   Goal: [0 0 1 0 1]   Success: False\n",
      "Step  3    Bits: [0 0 1 1 1]   Goal: [0 0 1 0 1]   Success: False\n",
      "Step  4    Bits: [0 0 1 1 0]   Goal: [0 0 1 0 1]   Success: False\n",
      "Step  5    Bits: [0 1 1 1 0]   Goal: [0 0 1 0 1]   Success: False\n",
      "######## DONE in 5 timesteps, success: False ########\n",
      "\n"
     ]
    },
    {
     "data": {
      "text/plain": [
       "0.0"
      ]
     },
     "execution_count": 3,
     "metadata": {},
     "output_type": "execute_result"
    }
   ],
   "source": [
    "# testing random actions in env\n",
    "test_bitflipping(n_bits=5, n_episodes=3, render=True)  "
   ]
  },
  {
   "cell_type": "markdown",
   "metadata": {},
   "source": [
    "### Training Setup"
   ]
  },
  {
   "cell_type": "code",
   "execution_count": 4,
   "metadata": {},
   "outputs": [],
   "source": [
    "DEFAULT_PARAMS = {\n",
    "    'n_bits': 35,                 # n bits to flip in environment (n corresponding target bits)\n",
    "    'seed': 0,                    # random seed for environment, torch, numpy, random packages\n",
    "\n",
    "    'eps': 0.2,                   # probability of random action, 'epsilon-greedy' policy\n",
    "    'buffer_size': int(1e6),      # replay-buffer size\n",
    "    'batch_size': 64,             # mini-batch size\n",
    "    'gamma': 0.98,                # discount factor\n",
    "    'tau': 0.05,                  # soft update of target network, 1-tau = polyak coefficient\n",
    "    'lr': 0.001,                  # learning rate\n",
    "\n",
    "    # training setup\n",
    "    # HINT: for higher number of bits, strategy 'final' works better\n",
    "    'replay_strategy': 'final',   # 'none' (ignore HER), 'final','future','episode' for HER\n",
    "    'n_epochs': 200,              # number of epochs, HER paper: 200 epochs (i.e. maximum of 8e6 timesteps)\n",
    "    'n_cycles': 50,               # number of cycles per epoch, HER paper: 50 cycles\n",
    "    'n_episodes': 16,             # number of episodes per cycle, HER paper: 16 episodes\n",
    "    'n_optim': 40,                # number of optimization steps every cycle, HER paper: 40 steps\n",
    "}\n",
    "\n",
    "\n",
    "def set_seeds(seed: int = 0):\n",
    "    \"\"\" Set random seed for all used packages (numpy, torch, random).\n",
    "\n",
    "    @param seed: random seed to be set, default is 0.\n",
    "    \"\"\"\n",
    "    torch.backends.cudnn.deterministic = True\n",
    "    torch.backends.cudnn.benchmark = False\n",
    "    torch.manual_seed(seed)\n",
    "    torch.cuda.manual_seed_all(seed)\n",
    "    np.random.seed(seed)\n",
    "    random.seed(seed)\n",
    "    pass\n",
    "\n",
    "\n",
    "set_seeds(DEFAULT_PARAMS['seed'])"
   ]
  },
  {
   "cell_type": "markdown",
   "metadata": {},
   "source": [
    "### DQN + HER"
   ]
  },
  {
   "cell_type": "code",
   "execution_count": 5,
   "metadata": {},
   "outputs": [],
   "source": [
    "def train(n_bits, agent):\n",
    "    \"\"\" Train DQN agent, with option for HER.\n",
    "\n",
    "    @param n_bits: number of bits in bitflip environment\n",
    "    @param agent: DQN agent to learn\n",
    "    @return: list of success from every episode\n",
    "    \"\"\"\n",
    "    print(\"Training DQN on Bitflipping with\", n_bits, \"bits for\", DEFAULT_PARAMS['n_epochs'], \"epochs...\")\n",
    "\n",
    "    # widget bar to display progress during training\n",
    "    widget = ['training loop: ', pb.Percentage(), ' ', pb.Bar(), ' ', pb.ETA()]\n",
    "    timer = pb.ProgressBar(widgets=widget, maxval=DEFAULT_PARAMS['n_epochs']).start()\n",
    "\n",
    "    env = BitFlippingEnv(n_bits)\n",
    "    success = []\n",
    "    eps = DEFAULT_PARAMS['eps']\n",
    "    for i_epoch in range(1, DEFAULT_PARAMS['n_epochs'] + 1):\n",
    "        for i_cycle in range(DEFAULT_PARAMS['n_cycles']):\n",
    "            for i_episode in range(DEFAULT_PARAMS['n_episodes']):\n",
    "                state, _, _, _ = env.reset()\n",
    "                state_ep, act_ep, reward_ep, next_state_ep, done_ep = [], [], [], [], []\n",
    "                for t in range(1000):\n",
    "                    state_goal = np.concatenate([state['obs'], state['goal']])\n",
    "                    action = agent.act(state_goal, eps)\n",
    "                    next_state, reward, done, info = env.step(action)\n",
    "\n",
    "                    # save current transition of episode\n",
    "                    state_ep.append(state.copy())\n",
    "                    act_ep.append(action)\n",
    "                    reward_ep.append(reward)\n",
    "                    next_state_ep.append(next_state.copy())\n",
    "                    done_ep.append(done)\n",
    "\n",
    "                    state = next_state\n",
    "                    if done:\n",
    "                        break\n",
    "                success.append(int(info))\n",
    "                # for standard experience replay\n",
    "                agent.store_episode(state_ep, act_ep, reward_ep, next_state_ep, done_ep)\n",
    "                # HER: save additional goals\n",
    "                # if not info:  # use HER only if unsuccessful episode\n",
    "                agent.store_episode_HER(state_ep, act_ep, next_state_ep,\n",
    "                                        replay_strategy=DEFAULT_PARAMS['replay_strategy'])\n",
    "\n",
    "            # optimize and soft update of networks\n",
    "            for _ in range(DEFAULT_PARAMS['n_optim']):\n",
    "                agent.learn()\n",
    "            agent.soft_update(agent.qnetwork_local, agent.qnetwork_target, DEFAULT_PARAMS['tau'])\n",
    "\n",
    "        # stop training earlier\n",
    "        if np.mean(success[-100:]) > 0.98:\n",
    "            print(\"\\n learning done\")\n",
    "            break\n",
    "            \n",
    "        if i_epoch % (DEFAULT_PARAMS['n_cycles'] / 10) == 0:\n",
    "            print('\\rEpoch {} \\t Success: {:.4f}'.format(i_epoch, np.mean(success[-50:])))\n",
    "        timer.update(i_epoch)\n",
    "    timer.finish()\n",
    "    return success"
   ]
  },
  {
   "cell_type": "markdown",
   "metadata": {},
   "source": [
    "### Start Training Agent"
   ]
  },
  {
   "cell_type": "code",
   "execution_count": 6,
   "metadata": {},
   "outputs": [
    {
     "name": "stderr",
     "output_type": "stream",
     "text": [
      "training loop: N/A% |                                          | ETA:  --:--:--"
     ]
    },
    {
     "name": "stdout",
     "output_type": "stream",
     "text": [
      "Training DQN on Bitflipping with 35 bits for 200 epochs...\n"
     ]
    },
    {
     "name": "stderr",
     "output_type": "stream",
     "text": [
      "training loop:   2% |#                                         | ETA:   0:33:33"
     ]
    },
    {
     "name": "stdout",
     "output_type": "stream",
     "text": [
      "Epoch 5 \t Success: 0.0000\n"
     ]
    },
    {
     "name": "stderr",
     "output_type": "stream",
     "text": [
      "training loop:   5% |##                                        | ETA:   0:41:10"
     ]
    },
    {
     "name": "stdout",
     "output_type": "stream",
     "text": [
      "Epoch 10 \t Success: 0.0000\n"
     ]
    },
    {
     "name": "stderr",
     "output_type": "stream",
     "text": [
      "training loop:   7% |###                                       | ETA:   0:49:28"
     ]
    },
    {
     "name": "stdout",
     "output_type": "stream",
     "text": [
      "Epoch 15 \t Success: 0.0400\n"
     ]
    },
    {
     "name": "stderr",
     "output_type": "stream",
     "text": [
      "training loop:  10% |####                                      | ETA:   0:56:05"
     ]
    },
    {
     "name": "stdout",
     "output_type": "stream",
     "text": [
      "Epoch 20 \t Success: 0.1200\n"
     ]
    },
    {
     "name": "stderr",
     "output_type": "stream",
     "text": [
      "training loop:  12% |#####                                     | ETA:   0:59:48"
     ]
    },
    {
     "name": "stdout",
     "output_type": "stream",
     "text": [
      "Epoch 25 \t Success: 0.2000\n"
     ]
    },
    {
     "name": "stderr",
     "output_type": "stream",
     "text": [
      "training loop:  15% |######                                    | ETA:   1:01:23"
     ]
    },
    {
     "name": "stdout",
     "output_type": "stream",
     "text": [
      "Epoch 30 \t Success: 0.2200\n"
     ]
    },
    {
     "name": "stderr",
     "output_type": "stream",
     "text": [
      "training loop:  17% |#######                                   | ETA:   1:01:51"
     ]
    },
    {
     "name": "stdout",
     "output_type": "stream",
     "text": [
      "Epoch 35 \t Success: 0.6000\n"
     ]
    },
    {
     "name": "stderr",
     "output_type": "stream",
     "text": [
      "training loop:  20% |########                                  | ETA:   1:01:36"
     ]
    },
    {
     "name": "stdout",
     "output_type": "stream",
     "text": [
      "Epoch 40 \t Success: 0.6200\n"
     ]
    },
    {
     "name": "stderr",
     "output_type": "stream",
     "text": [
      "training loop:  22% |#########                                 | ETA:   1:00:48"
     ]
    },
    {
     "name": "stdout",
     "output_type": "stream",
     "text": [
      "Epoch 45 \t Success: 0.7600\n"
     ]
    },
    {
     "name": "stderr",
     "output_type": "stream",
     "text": [
      "training loop:  25% |##########                                | ETA:   0:59:47"
     ]
    },
    {
     "name": "stdout",
     "output_type": "stream",
     "text": [
      "Epoch 50 \t Success: 0.9000\n"
     ]
    },
    {
     "name": "stderr",
     "output_type": "stream",
     "text": [
      "training loop:  27% |###########                               | ETA:   0:58:42"
     ]
    },
    {
     "name": "stdout",
     "output_type": "stream",
     "text": [
      "Epoch 55 \t Success: 0.9600\n"
     ]
    },
    {
     "name": "stderr",
     "output_type": "stream",
     "text": [
      "training loop:  30% |############                              | ETA:   0:57:25"
     ]
    },
    {
     "name": "stdout",
     "output_type": "stream",
     "text": [
      "Epoch 60 \t Success: 0.9200\n"
     ]
    },
    {
     "name": "stderr",
     "output_type": "stream",
     "text": [
      "training loop: 100% |##########################################| Time:  0:25:33\n"
     ]
    },
    {
     "name": "stdout",
     "output_type": "stream",
     "text": [
      "\n",
      " learning done\n"
     ]
    }
   ],
   "source": [
    "agent = Agent(DEFAULT_PARAMS['n_bits'], DEFAULT_PARAMS['n_bits'], DEFAULT_PARAMS['batch_size'],\n",
    "              DEFAULT_PARAMS['buffer_size'], DEFAULT_PARAMS['gamma'], DEFAULT_PARAMS['lr'])\n",
    "\n",
    "success = train(DEFAULT_PARAMS['n_bits'], agent)"
   ]
  },
  {
   "cell_type": "code",
   "execution_count": 7,
   "metadata": {},
   "outputs": [],
   "source": [
    "# saving trained network\n",
    "torch.save(agent.qnetwork_local.state_dict(), './trained/checkpoint_' + str(DEFAULT_PARAMS['n_bits']) + 'bits.pth')"
   ]
  },
  {
   "cell_type": "markdown",
   "metadata": {},
   "source": [
    "### Results"
   ]
  },
  {
   "cell_type": "code",
   "execution_count": 8,
   "metadata": {},
   "outputs": [
    {
     "data": {
      "image/png": "[encoded data removed]",
      "text/plain": [
       "<Figure size 432x288 with 1 Axes>"
      ]
     },
     "metadata": {
      "needs_background": "light"
     },
     "output_type": "display_data"
    }
   ],
   "source": [
    "# Plot rolling average of success\n",
    "N = 100\n",
    "rolling_avg = pd.Series(success).rolling(window = N).mean().iloc[N-1:].values\n",
    "\n",
    "fig = plt.figure()\n",
    "ax = fig.add_subplot(111)\n",
    "plt.plot(np.arange(len(rolling_avg)), rolling_avg)\n",
    "plt.ylabel('Score')\n",
    "plt.xlabel('Episode #')\n",
    "plt.show()"
   ]
  },
  {
   "cell_type": "markdown",
   "metadata": {},
   "source": [
    "### Test trained Agent"
   ]
  },
  {
   "cell_type": "code",
   "execution_count": 9,
   "metadata": {},
   "outputs": [
    {
     "name": "stdout",
     "output_type": "stream",
     "text": [
      "Step  0    Bits: [1 1 0 0 1 0 1 1 1 1 0 0 0 1 0 1 1 1 0 1 0 0 1 0 1 1 0 0 1 0 1 0 1 0 1]   Goal: [0 1 0 0 0 1 0 1 0 1 0 0 0 0 0 1 0 0 1 0 0 0 1 0 0 1 0 1 0 0 1 1 0 0 0]   Success: False\n",
      "Step  1    Bits: [1 1 0 0 1 0 1 1 1 1 0 0 0 0 0 1 1 1 0 1 0 0 1 0 1 1 0 0 1 0 1 0 1 0 1]   Goal: [0 1 0 0 0 1 0 1 0 1 0 0 0 0 0 1 0 0 1 0 0 0 1 0 0 1 0 1 0 0 1 1 0 0 0]   Success: False\n",
      "Step  2    Bits: [1 1 0 0 1 0 1 1 1 1 0 0 0 0 0 1 1 1 0 1 0 0 1 0 1 1 0 0 1 0 1 0 1 0 0]   Goal: [0 1 0 0 0 1 0 1 0 1 0 0 0 0 0 1 0 0 1 0 0 0 1 0 0 1 0 1 0 0 1 1 0 0 0]   Success: False\n",
      "Step  3    Bits: [1 1 0 0 1 0 1 1 1 1 0 0 0 0 0 1 1 1 0 1 0 0 1 0 1 1 0 1 1 0 1 0 1 0 0]   Goal: [0 1 0 0 0 1 0 1 0 1 0 0 0 0 0 1 0 0 1 0 0 0 1 0 0 1 0 1 0 0 1 1 0 0 0]   Success: False\n",
      "Step  4    Bits: [0 1 0 0 1 0 1 1 1 1 0 0 0 0 0 1 1 1 0 1 0 0 1 0 1 1 0 1 1 0 1 0 1 0 0]   Goal: [0 1 0 0 0 1 0 1 0 1 0 0 0 0 0 1 0 0 1 0 0 0 1 0 0 1 0 1 0 0 1 1 0 0 0]   Success: False\n",
      "Step  5    Bits: [0 1 0 0 1 0 1 1 1 1 0 0 0 0 0 1 1 1 0 0 0 0 1 0 1 1 0 1 1 0 1 0 1 0 0]   Goal: [0 1 0 0 0 1 0 1 0 1 0 0 0 0 0 1 0 0 1 0 0 0 1 0 0 1 0 1 0 0 1 1 0 0 0]   Success: False\n",
      "Step  6    Bits: [0 1 0 0 1 0 1 1 1 1 0 0 0 0 0 1 1 1 0 0 0 0 1 0 1 1 0 1 1 0 1 0 0 0 0]   Goal: [0 1 0 0 0 1 0 1 0 1 0 0 0 0 0 1 0 0 1 0 0 0 1 0 0 1 0 1 0 0 1 1 0 0 0]   Success: False\n",
      "Step  7    Bits: [0 1 0 0 1 0 1 1 1 1 0 0 0 0 0 1 1 1 1 0 0 0 1 0 1 1 0 1 1 0 1 0 0 0 0]   Goal: [0 1 0 0 0 1 0 1 0 1 0 0 0 0 0 1 0 0 1 0 0 0 1 0 0 1 0 1 0 0 1 1 0 0 0]   Success: False\n",
      "Step  8    Bits: [0 1 0 0 1 0 1 1 0 1 0 0 0 0 0 1 1 1 1 0 0 0 1 0 1 1 0 1 1 0 1 0 0 0 0]   Goal: [0 1 0 0 0 1 0 1 0 1 0 0 0 0 0 1 0 0 1 0 0 0 1 0 0 1 0 1 0 0 1 1 0 0 0]   Success: False\n",
      "Step  9    Bits: [0 1 0 0 1 1 1 1 0 1 0 0 0 0 0 1 1 1 1 0 0 0 1 0 1 1 0 1 1 0 1 0 0 0 0]   Goal: [0 1 0 0 0 1 0 1 0 1 0 0 0 0 0 1 0 0 1 0 0 0 1 0 0 1 0 1 0 0 1 1 0 0 0]   Success: False\n",
      "Step 10    Bits: [0 1 0 0 1 1 1 1 0 1 0 0 0 0 0 1 0 1 1 0 0 0 1 0 1 1 0 1 1 0 1 0 0 0 0]   Goal: [0 1 0 0 0 1 0 1 0 1 0 0 0 0 0 1 0 0 1 0 0 0 1 0 0 1 0 1 0 0 1 1 0 0 0]   Success: False\n",
      "Step 11    Bits: [0 1 0 0 1 1 1 1 0 1 0 0 0 0 0 1 0 1 1 0 0 0 1 0 0 1 0 1 1 0 1 0 0 0 0]   Goal: [0 1 0 0 0 1 0 1 0 1 0 0 0 0 0 1 0 0 1 0 0 0 1 0 0 1 0 1 0 0 1 1 0 0 0]   Success: False\n",
      "Step 12    Bits: [0 1 0 0 1 1 0 1 0 1 0 0 0 0 0 1 0 1 1 0 0 0 1 0 0 1 0 1 1 0 1 0 0 0 0]   Goal: [0 1 0 0 0 1 0 1 0 1 0 0 0 0 0 1 0 0 1 0 0 0 1 0 0 1 0 1 0 0 1 1 0 0 0]   Success: False\n",
      "Step 13    Bits: [0 1 0 0 0 1 0 1 0 1 0 0 0 0 0 1 0 1 1 0 0 0 1 0 0 1 0 1 1 0 1 0 0 0 0]   Goal: [0 1 0 0 0 1 0 1 0 1 0 0 0 0 0 1 0 0 1 0 0 0 1 0 0 1 0 1 0 0 1 1 0 0 0]   Success: False\n",
      "Step 14    Bits: [0 1 0 0 0 1 0 1 0 1 0 0 0 0 0 1 0 1 1 0 0 0 1 0 0 1 0 1 0 0 1 0 0 0 0]   Goal: [0 1 0 0 0 1 0 1 0 1 0 0 0 0 0 1 0 0 1 0 0 0 1 0 0 1 0 1 0 0 1 1 0 0 0]   Success: False\n",
      "Step 15    Bits: [0 1 0 0 0 1 0 1 0 1 0 0 0 0 0 1 0 1 1 0 0 0 1 0 0 1 0 1 0 0 1 1 0 0 0]   Goal: [0 1 0 0 0 1 0 1 0 1 0 0 0 0 0 1 0 0 1 0 0 0 1 0 0 1 0 1 0 0 1 1 0 0 0]   Success: False\n",
      "Step 16    Bits: [0 1 0 0 0 1 0 1 0 1 0 0 0 0 0 1 0 0 1 0 0 0 1 0 0 1 0 1 0 0 1 1 0 0 0]   Goal: [0 1 0 0 0 1 0 1 0 1 0 0 0 0 0 1 0 0 1 0 0 0 1 0 0 1 0 1 0 0 1 1 0 0 0]   Success: True\n",
      "######## DONE in 16 timesteps, success: True ########\n",
      "\n"
     ]
    },
    {
     "data": {
      "text/plain": [
       "1.0"
      ]
     },
     "execution_count": 9,
     "metadata": {},
     "output_type": "execute_result"
    }
   ],
   "source": [
    "n = 35\n",
    "env = BitFlippingEnv(n)\n",
    "\n",
    "# load the weights from file --------\n",
    "agent = Agent(DEFAULT_PARAMS['n_bits'], DEFAULT_PARAMS['n_bits'], DEFAULT_PARAMS['batch_size'],\n",
    "              DEFAULT_PARAMS['buffer_size'], DEFAULT_PARAMS['gamma'], DEFAULT_PARAMS['lr'])\n",
    "\n",
    "agent.qnetwork_local.load_state_dict(torch.load('./trained/checkpoint_35bits.pth'))\n",
    "\n",
    "test_bitflipping(n_bits=n, n_episodes=1, policy=agent, render=True)"
   ]
  },
  {
   "cell_type": "code",
   "execution_count": 10,
   "metadata": {},
   "outputs": [
    {
     "name": "stdout",
     "output_type": "stream",
     "text": [
      "Testing agent for 100 episodes, success-rate:  100.0 %\n"
     ]
    }
   ],
   "source": [
    "print(\"Testing agent for 100 episodes, success-rate: \",\n",
    "          test_bitflipping(DEFAULT_PARAMS['n_bits'], n_episodes=100, policy=agent)*100, \"%\")"
   ]
  },
  {
   "cell_type": "code",
   "execution_count": null,
   "metadata": {},
   "outputs": [],
   "source": []
  }
 ],
 "metadata": {
  "kernelspec": {
   "display_name": "Python 3",
   "language": "python",
   "name": "python3"
  },
  "language_info": {
   "codemirror_mode": {
    "name": "ipython",
    "version": 3
   },
   "file_extension": ".py",
   "mimetype": "text/x-python",
   "name": "python",
   "nbconvert_exporter": "python",
   "pygments_lexer": "ipython3",
   "version": "3.7.6"
  }
 },
 "nbformat": 4,
 "nbformat_minor": 4
}
